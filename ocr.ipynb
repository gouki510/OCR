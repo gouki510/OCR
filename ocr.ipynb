{
  "nbformat": 4,
  "nbformat_minor": 0,
  "metadata": {
    "accelerator": "GPU",
    "colab": {
      "name": "ocr.ipynb",
      "provenance": [],
      "collapsed_sections": []
    },
    "kernelspec": {
      "display_name": "Python 3",
      "name": "python3"
    },
    "language_info": {
      "name": "python"
    }
  },
  "cells": [
    {
      "cell_type": "code",
      "metadata": {
        "colab": {
          "base_uri": "https://localhost:8080/"
        },
        "id": "AyeHfA-GQ5LN",
        "outputId": "f2854cc2-f6a5-4a29-f6ee-10febfd00410"
      },
      "source": [
        "from google.colab import drive\n",
        "drive.mount('/content/drive')\n"
      ],
      "execution_count": null,
      "outputs": [
        {
          "output_type": "stream",
          "text": [
            "Drive already mounted at /content/drive; to attempt to forcibly remount, call drive.mount(\"/content/drive\", force_remount=True).\n"
          ],
          "name": "stdout"
        }
      ]
    },
    {
      "cell_type": "code",
      "metadata": {
        "id": "Qb_oJZQIQ-Qc"
      },
      "source": [
        "import os\n",
        "import glob\n",
        "from torch.utils.data import Dataset\n",
        "import torch\n",
        "import torchvision.transforms as transforms\n",
        "from torchvision import models\n",
        "import numpy as np\n",
        "import torch.nn as nn\n",
        "import torch.optim as optim\n",
        "import torchvision\n",
        "import tqdm\n",
        "import cv2"
      ],
      "execution_count": null,
      "outputs": []
    },
    {
      "cell_type": "markdown",
      "metadata": {
        "id": "boHjTUhQZdVH"
      },
      "source": [
        "# 二値化"
      ]
    },
    {
      "cell_type": "code",
      "metadata": {
        "colab": {
          "base_uri": "https://localhost:8080/"
        },
        "id": "UWB7qocuRect",
        "outputId": "2cf0b27a-30a9-4d83-a4f8-5234a3751304"
      },
      "source": [
        "\n",
        "train_data_dir = 'drive/MyDrive/data/train'\n",
        "valid_data_dir = 'drive/MyDrive/data/validation'\n",
        "\n",
        "listofcats = os.listdir(train_data_dir)\n",
        "print(listofcats)\n",
        "\n",
        "threshoud = 150\n",
        "\n",
        "for cat in listofcats:\n",
        "  train_dir_path = glob.glob(train_data_dir +'/'+ cat + '/*.png') \n",
        "  valid_dir_path = glob.glob(valid_data_dir +'/'+ cat + '/*.png') \n",
        "  for i,(train,valid) in tqdm.tqdm(enumerate(zip(train_dir_path,valid_dir_path)),total=len(train_dir_path)):\n",
        "    train_img = cv2.imread(train)\n",
        "    ret, train_thresh = cv2.threshold(train_img, threshoud, 255, cv2.THRESH_BINARY)\n",
        "    valid_img = cv2.imread(valid)\n",
        "    ret, valid_thresh = cv2.threshold(valid_img, threshoud, 255, cv2.THRESH_BINARY)\n",
        "    os.makedirs('drive/MyDrive/dataset2/train' + '/' + cat, exist_ok=True)\n",
        "    store_train = 'drive/MyDrive/dataset2/train' + '/' + cat\n",
        "    cv2.imwrite(store_train + '/' + str(i) + '.png',train_thresh)\n",
        "    os.makedirs('drive/MyDrive/dataset2/valid' + '/' + cat, exist_ok=True)\n",
        "    store_valid = 'drive/MyDrive/dataset2/valid' + '/' + cat\n",
        "    cv2.imwrite(store_valid + '/' + str(i) + '.png',valid_thresh)\n",
        "\n"
      ],
      "execution_count": null,
      "outputs": [
        {
          "output_type": "stream",
          "text": [
            "  2%|▎         | 7/280 [00:00<00:04, 68.13it/s]"
          ],
          "name": "stderr"
        },
        {
          "output_type": "stream",
          "text": [
            "['す', 'は', 'こ', 'ね', 'か', 'あ', 'ふ', 'ろ', 'ゆ', 'て', '濁点', 'ら', 'せ', 'そ', 'や', 'つ', 'た', 'ぬ', 'う', 'も', 'み', 'を', 'お', 'れ', 'よ', 'ほ', 'る', '丸', 'き', 'な', 'ち', 'ひ', 'ま', 'し', 'へ', 'の', 'と', 'り', 'い', 'え', 'ん', 'に', 'め', 'け', 'さ', 'む', 'わ', 'く']\n"
          ],
          "name": "stdout"
        },
        {
          "output_type": "stream",
          "text": [
            " 25%|██▌       | 70/280 [00:01<00:03, 52.97it/s]\n",
            " 24%|██▍       | 70/288 [00:01<00:04, 49.45it/s]\n",
            " 25%|██▌       | 70/280 [00:01<00:04, 46.31it/s]\n",
            " 25%|██▌       | 70/280 [00:01<00:04, 45.93it/s]\n",
            " 25%|██▍       | 70/282 [00:01<00:05, 38.32it/s]\n",
            " 25%|██▌       | 70/280 [00:01<00:04, 50.58it/s]\n",
            " 25%|██▌       | 70/280 [00:01<00:04, 45.65it/s]\n",
            " 25%|██▌       | 70/280 [00:01<00:04, 48.58it/s]\n",
            " 25%|██▌       | 70/280 [00:01<00:04, 47.19it/s]\n",
            " 25%|██▌       | 70/280 [00:01<00:04, 45.87it/s]\n",
            " 25%|██▌       | 70/280 [00:01<00:04, 49.04it/s]\n",
            " 25%|██▌       | 70/280 [00:01<00:04, 45.36it/s]\n",
            " 25%|██▌       | 70/280 [00:01<00:04, 48.54it/s]\n",
            " 25%|██▌       | 70/280 [00:01<00:04, 46.01it/s]\n",
            " 25%|██▌       | 70/280 [00:01<00:04, 49.08it/s]\n",
            " 25%|██▌       | 70/280 [00:01<00:04, 48.79it/s]\n",
            " 25%|██▌       | 70/280 [00:01<00:04, 45.57it/s]\n",
            " 25%|██▌       | 70/280 [00:01<00:04, 48.75it/s]\n",
            " 25%|██▌       | 70/280 [00:01<00:04, 45.94it/s]\n",
            " 25%|██▌       | 70/280 [00:01<00:04, 48.68it/s]\n",
            " 25%|██▌       | 70/280 [00:01<00:05, 39.88it/s]\n",
            " 25%|██▌       | 70/280 [00:01<00:04, 46.28it/s]\n",
            " 25%|██▌       | 70/280 [00:01<00:04, 44.22it/s]\n",
            " 25%|██▌       | 70/280 [00:01<00:04, 48.95it/s]\n",
            " 25%|██▌       | 70/280 [00:01<00:04, 45.59it/s]\n",
            " 25%|██▌       | 70/280 [00:01<00:04, 49.21it/s]\n",
            " 25%|██▌       | 70/280 [00:01<00:04, 45.60it/s]\n",
            " 25%|██▌       | 70/280 [00:01<00:04, 49.16it/s]\n",
            " 25%|██▌       | 70/280 [00:01<00:04, 48.99it/s]\n",
            " 25%|██▌       | 70/280 [00:01<00:04, 45.05it/s]\n",
            " 25%|██▌       | 70/280 [00:01<00:04, 42.67it/s]\n",
            " 25%|██▌       | 70/280 [00:01<00:04, 48.89it/s]\n",
            " 25%|██▌       | 70/280 [00:01<00:04, 48.83it/s]\n",
            " 25%|██▌       | 70/280 [00:01<00:04, 45.80it/s]\n",
            " 25%|██▌       | 70/280 [00:01<00:04, 49.06it/s]\n",
            " 25%|██▌       | 70/280 [00:01<00:04, 45.84it/s]\n",
            " 25%|██▌       | 70/280 [00:01<00:04, 48.74it/s]\n",
            " 25%|██▌       | 70/280 [00:01<00:04, 49.19it/s]\n",
            " 25%|██▌       | 70/280 [00:01<00:04, 45.41it/s]\n",
            " 25%|██▌       | 70/280 [00:01<00:04, 48.92it/s]\n",
            " 25%|██▌       | 70/280 [00:01<00:04, 45.80it/s]\n",
            " 25%|██▌       | 70/280 [00:01<00:04, 48.64it/s]\n",
            " 25%|██▌       | 70/280 [00:01<00:04, 48.95it/s]\n",
            " 25%|██▌       | 70/280 [00:01<00:04, 48.56it/s]\n",
            " 25%|██▌       | 70/280 [00:01<00:04, 49.43it/s]\n",
            " 25%|██▌       | 70/280 [00:01<00:04, 45.31it/s]\n",
            " 25%|██▌       | 70/280 [00:01<00:04, 46.54it/s]\n",
            " 25%|██▌       | 70/280 [00:01<00:04, 45.47it/s]\n"
          ],
          "name": "stderr"
        }
      ]
    },
    {
      "cell_type": "code",
      "metadata": {
        "colab": {
          "base_uri": "https://localhost:8080/",
          "height": 913
        },
        "id": "pcJ7gk5vhnyN",
        "outputId": "a9b35b25-7548-4916-cf3c-35f153a01cd4"
      },
      "source": [
        "train_data_dir = 'drive/MyDrive/dataset2/train'\n",
        "valid_data_dir = 'drive/MyDrive/dataset2/validation'\n",
        "listofcats = os.listdir(train_data_dir)\n",
        "from google.colab.patches import cv2_imshow\n",
        "\n",
        "for cat in listofcats:\n",
        "  train_dir_path = glob.glob(train_data_dir +'/'+ cat + '/*.png') \n",
        "  valid_dir_path = glob.glob(valid_data_dir +'/'+ cat + '/*.png') \n",
        "  for train,valid in zip(train_dir_path,valid_data_dir):\n",
        "    img = cv2.imread(train)\n",
        "    print(img)\n",
        "    cv2_imshow(img)\n",
        "    break\n",
        "  break"
      ],
      "execution_count": null,
      "outputs": [
        {
          "output_type": "stream",
          "text": [
            "[[[0 0 0]\n",
            "  [0 0 0]\n",
            "  [0 0 0]\n",
            "  ...\n",
            "  [0 0 0]\n",
            "  [0 0 0]\n",
            "  [0 0 0]]\n",
            "\n",
            " [[0 0 0]\n",
            "  [0 0 0]\n",
            "  [0 0 0]\n",
            "  ...\n",
            "  [0 0 0]\n",
            "  [0 0 0]\n",
            "  [0 0 0]]\n",
            "\n",
            " [[0 0 0]\n",
            "  [0 0 0]\n",
            "  [0 0 0]\n",
            "  ...\n",
            "  [0 0 0]\n",
            "  [0 0 0]\n",
            "  [0 0 0]]\n",
            "\n",
            " ...\n",
            "\n",
            " [[0 0 0]\n",
            "  [0 0 0]\n",
            "  [0 0 0]\n",
            "  ...\n",
            "  [0 0 0]\n",
            "  [0 0 0]\n",
            "  [0 0 0]]\n",
            "\n",
            " [[0 0 0]\n",
            "  [0 0 0]\n",
            "  [0 0 0]\n",
            "  ...\n",
            "  [0 0 0]\n",
            "  [0 0 0]\n",
            "  [0 0 0]]\n",
            "\n",
            " [[0 0 0]\n",
            "  [0 0 0]\n",
            "  [0 0 0]\n",
            "  ...\n",
            "  [0 0 0]\n",
            "  [0 0 0]\n",
            "  [0 0 0]]]\n"
          ],
          "name": "stdout"
        },
        {
          "output_type": "display_data",
          "data": {
            "image/png": "[encoded data removed]",
            "text/plain": [
              "<PIL.Image.Image image mode=RGB size=64x63 at 0x7FE6BEBC5850>"
            ]
          },
          "metadata": {
            "tags": []
          }
        }
      ]
    },
    {
      "cell_type": "code",
      "metadata": {
        "id": "j93w89JfY9FG"
      },
      "source": [
        "transform_train = transforms.Compose([\n",
        "     transforms.ToTensor(),\n",
        "     transforms.Normalize([0.485, 0.456, 0.406],[0.229, 0.224, 0.225])\n",
        "])\n",
        "\n",
        "transform_valid = transforms.Compose([\n",
        "     transforms.ToTensor(),\n",
        "     transforms.Normalize((0.485, 0.456, 0.406), (0.229, 0.224, 0.225))\n",
        "])\n",
        "\n",
        "train_data_dir = 'drive/MyDrive/dataset2/train'\n",
        "valid_data_dir = 'drive/MyDrive/dataset2/valid'\n",
        "\n",
        "# training set\n",
        "trainset = torchvision.datasets.ImageFolder(train_data_dir, transform=transform_train)\n",
        "train_loader = torch.utils.data.DataLoader(trainset, batch_size=8, shuffle=True)\n",
        "# validation set\n",
        "validset = torchvision.datasets.ImageFolder(valid_data_dir, transform=transform_valid)\n",
        "valid_loader = torch.utils.data.DataLoader(validset, batch_size=8, shuffle=False)\n",
        "\n",
        "\"\"\"# Network 定義\"\"\"\n",
        "\n",
        "#net = models.vgg16(pretrained=False)\n",
        "net = models.resnet18(pretrained=False)\n",
        "#4class分類\n",
        "net.fc = nn.Linear(512,48)\n",
        "\n",
        "device=torch.device('cuda')\n",
        "net.cuda()\n",
        "\n",
        "criterion = nn.CrossEntropyLoss()\n",
        "optimizer = optim.SGD(net.parameters(), lr=0.001, momentum=0.9)\n",
        "#optimizer = optim.Adam(net.parameters(), lr=0.001, betas=(0.9, 0.999), eps=1e-08, weight_decay=0, amsgrad=False)\n"
      ],
      "execution_count": null,
      "outputs": []
    },
    {
      "cell_type": "code",
      "metadata": {
        "id": "GBB2M2TJhm5D"
      },
      "source": [
        ""
      ],
      "execution_count": null,
      "outputs": []
    },
    {
      "cell_type": "code",
      "metadata": {
        "id": "a4H1XBr-4f-j",
        "colab": {
          "base_uri": "https://localhost:8080/",
          "height": 502
        },
        "outputId": "de06e128-792f-4f8a-d4b1-9fb497ae4dab"
      },
      "source": [
        "import numpy as np\n",
        "import matplotlib.pyplot as plt\n",
        "import os\n",
        "import cv2\n",
        "import numpy as np\n",
        "import matplotlib.pyplot as plt\n",
        "import torch.utils.data as data\n",
        "\n",
        "\n",
        "def imshow(img):\n",
        "    img = img / 2 + 0.5     \n",
        "    npimg = img.numpy()\n",
        "    plt.imshow(np.transpose(npimg, (1, 2, 0)))\n",
        "    plt.show()\n",
        "\n",
        "# 訓練データをランダムに取得\n",
        "dataiter = iter(train_loader)\n",
        "images, labels = dataiter.next()\n",
        "print(images[0])\n",
        "# 画像の表示\n",
        "imshow(torchvision.utils.make_grid(images))\n",
        "# ラベルの表示\n",
        "#print(' '.join('%5s' % labels[j] for j in range(48)))"
      ],
      "execution_count": null,
      "outputs": [
        {
          "output_type": "stream",
          "text": [
            "Clipping input data to the valid range for imshow with RGB data ([0..1] for floats or [0..255] for integers).\n"
          ],
          "name": "stderr"
        },
        {
          "output_type": "stream",
          "text": [
            "tensor([[[-2.1179, -2.1179, -2.1179,  ..., -2.1179, -2.1179, -2.1179],\n",
            "         [-2.1179, -2.1179, -2.1179,  ..., -2.1179, -2.1179, -2.1179],\n",
            "         [-2.1179, -2.1179, -2.1179,  ..., -2.1179, -2.1179, -2.1179],\n",
            "         ...,\n",
            "         [-2.1179, -2.1179, -2.1179,  ..., -2.1179, -2.1179, -2.1179],\n",
            "         [-2.1179, -2.1179, -2.1179,  ..., -2.1179, -2.1179, -2.1179],\n",
            "         [-2.1179, -2.1179, -2.1179,  ..., -2.1179, -2.1179, -2.1179]],\n",
            "\n",
            "        [[-2.0357, -2.0357, -2.0357,  ..., -2.0357, -2.0357, -2.0357],\n",
            "         [-2.0357, -2.0357, -2.0357,  ..., -2.0357, -2.0357, -2.0357],\n",
            "         [-2.0357, -2.0357, -2.0357,  ..., -2.0357, -2.0357, -2.0357],\n",
            "         ...,\n",
            "         [-2.0357, -2.0357, -2.0357,  ..., -2.0357, -2.0357, -2.0357],\n",
            "         [-2.0357, -2.0357, -2.0357,  ..., -2.0357, -2.0357, -2.0357],\n",
            "         [-2.0357, -2.0357, -2.0357,  ..., -2.0357, -2.0357, -2.0357]],\n",
            "\n",
            "        [[-1.8044, -1.8044, -1.8044,  ..., -1.8044, -1.8044, -1.8044],\n",
            "         [-1.8044, -1.8044, -1.8044,  ..., -1.8044, -1.8044, -1.8044],\n",
            "         [-1.8044, -1.8044, -1.8044,  ..., -1.8044, -1.8044, -1.8044],\n",
            "         ...,\n",
            "         [-1.8044, -1.8044, -1.8044,  ..., -1.8044, -1.8044, -1.8044],\n",
            "         [-1.8044, -1.8044, -1.8044,  ..., -1.8044, -1.8044, -1.8044],\n",
            "         [-1.8044, -1.8044, -1.8044,  ..., -1.8044, -1.8044, -1.8044]]])\n"
          ],
          "name": "stdout"
        },
        {
          "output_type": "display_data",
          "data": {
            "image/png": "[encoded data removed]",
            "text/plain": [
              "<Figure size 432x288 with 1 Axes>"
            ]
          },
          "metadata": {
            "tags": [],
            "needs_background": "light"
          }
        }
      ]
    },
    {
      "cell_type": "code",
      "metadata": {
        "id": "zWDX8ONbR1LY",
        "colab": {
          "base_uri": "https://localhost:8080/",
          "height": 1000
        },
        "outputId": "77f679da-8dba-409f-cc7f-2b8c423c5c66"
      },
      "source": [
        "class EarlyStopping:\n",
        "\n",
        "    def __init__(self, patience=5, verbose=False, path='checkpoint_model.pth'):\n",
        "\n",
        "        self.patience = patience    #設定ストップカウンタ\n",
        "        self.verbose = verbose      #表示の有無\n",
        "        self.counter = 0            #現在のカウンタ値\n",
        "        self.best_score = None      #ベストスコア\n",
        "        self.early_stop = False     #ストップフラグ\n",
        "        self.val_loss_min = np.Inf   #前回のベストスコア記憶用\n",
        "        self.path = path             #ベストモデル格納path\n",
        "\n",
        "    def __call__(self, val_loss, model):\n",
        "\n",
        "        score = -val_loss\n",
        "\n",
        "        if self.best_score is None:  #1Epoch目の処理\n",
        "            self.best_score = score   #1Epoch目はそのままベストスコアとして記録する\n",
        "            self.checkpoint(val_loss, model)  #記録後にモデルを保存してスコア表示する\n",
        "        elif score < self.best_score:  # ベストスコアを更新できなかった場合\n",
        "            self.counter += 1   #ストップカウンタを+1\n",
        "            if self.verbose:  #表示を有効にした場合は経過を表示\n",
        "                print(f'EarlyStopping counter: {self.counter} out of {self.patience}')  #現在のカウンタを表示する \n",
        "            if self.counter >= self.patience:  #設定カウントを上回ったらストップフラグをTrueに変更\n",
        "                self.early_stop = True\n",
        "        else:  #ベストスコアを更新した場合\n",
        "            self.best_score = score  #ベストスコアを上書き\n",
        "            self.checkpoint(val_loss, model)  #モデルを保存してスコア表示\n",
        "            self.counter = 0  #ストップカウンタリセット\n",
        "\n",
        "    def checkpoint(self, val_loss, model):\n",
        "        if self.verbose:  #表示を有効にした場合は、前回のベストスコアからどれだけ更新したか？を表示\n",
        "            print(f'Validation loss decreased ({self.val_loss_min:.6f} --> {val_loss:.6f}).  Saving model ...')\n",
        "        torch.save(model.to('cpu').state_dict(), self.path)  #ベストモデルを指定したpathに保存\n",
        "        self.val_loss_min = val_loss  #その時のlossを記録する\n",
        "\n",
        "#loss,accuracyを格納\n",
        "train_loss_list = []\n",
        "train_acc_list = []\n",
        "val_loss_list = []\n",
        "val_acc_list = []\n",
        "\n",
        "nb_epoch =10\n",
        "early_stopping = EarlyStopping(patience=30, verbose=True,path='drive/MyDrive/weight/ocr_th.pth')\n",
        "for epoch in range(nb_epoch):\n",
        "    train_loss = 0\n",
        "    train_acc = 0\n",
        "    val_loss = 0\n",
        "    val_acc = 0\n",
        "\n",
        "    #train Input type (torch.cuda.FloatTensor) and weight type (torch.FloatTensor) should be the same\n",
        "    net.train()\n",
        "    for i, (data, labels) in enumerate(tqdm.tqdm(train_loader)):\n",
        "      \n",
        "      \n",
        "      data, labels = data.to(device), labels.to(device)\n",
        "\n",
        "      optimizer.zero_grad()\n",
        "      net.cuda()\n",
        "      outputs = net(data)\n",
        "      loss = criterion(outputs, labels)\n",
        "      train_loss += loss.item()\n",
        "      train_acc += (outputs.max(1)[1] == labels).sum().item()\n",
        "      loss.backward()\n",
        "      optimizer.step()\n",
        "\n",
        "    avg_train_loss = train_loss / len(train_loader.dataset)\n",
        "    avg_train_acc = train_acc / len(train_loader.dataset)\n",
        "\n",
        "    train_loss_list.append(avg_train_loss)\n",
        "    train_acc_list.append(avg_train_acc)\n",
        "    print ('Epoch [{}/{}], loss: {loss:.4f} train_loss: {train_loss:.4f}, train_acc: {train_acc:.4f}' \n",
        "                   .format(epoch+1, nb_epoch, i+1, loss=avg_train_loss, train_loss=avg_train_loss, train_acc=avg_train_acc))\n",
        "    #val\n",
        "    net.eval()\n",
        "    with torch.no_grad():\n",
        "     for data, labels in valid_loader:\n",
        "      data = data.to(device)\n",
        "      labels = labels.to(device)\n",
        "      net.cuda()\n",
        "      outputs = net(data)\n",
        "      loss = criterion(outputs, labels)\n",
        "      val_loss += loss.item()\n",
        "      val_acc += (outputs.max(1)[1] == labels).sum().item()\n",
        "    avg_val_loss = val_loss / len(valid_loader.dataset)\n",
        "    avg_val_acc = val_acc / len(valid_loader.dataset)\n",
        "\n",
        "    print ('Epoch [{}/{}], loss: {loss:.4f} val_loss: {val_loss:.4f}, val_acc: {val_acc:.4f}' \n",
        "                   .format(epoch+1, nb_epoch, i+1, loss=avg_train_loss, val_loss=avg_val_loss, val_acc=avg_val_acc))\n",
        "    early_stopping(avg_val_loss, net)\n",
        "    if early_stopping.early_stop:\n",
        "            print(\"Early stopping\")\n",
        "            break\n",
        "    val_loss_list.append(avg_val_loss)\n",
        "    val_acc_list.append(avg_val_acc)\n",
        "\n",
        "import matplotlib.pyplot as plt\n",
        "\n",
        "plt.figure(figsize=(8,6))\n",
        "plt.plot(train_loss_list,label='train', lw=3, c='b')\n",
        "plt.plot(val_loss_list,label='test',lw=3,c = 'r')\n",
        "plt.xlabel('Epoch')\n",
        "plt.ylabel('Loss')\n",
        "plt.title('resnet')\n",
        "plt.xticks(size=14)\n",
        "plt.yticks(size=14)\n",
        "plt.grid(lw=2)\n",
        "plt.legend(fontsize=14)\n",
        "plt.show()\n",
        "\n",
        "plt.figure(figsize=(8,6))\n",
        "plt.plot(train_acc_list,label='train', lw=3, c='b')\n",
        "plt.plot(val_acc_list,label='test',lw=3,c = 'r')\n",
        "plt.xlabel('Epoch')\n",
        "plt.ylabel('accuracy')\n",
        "plt.title('resnet')\n",
        "plt.xticks(size=14)\n",
        "plt.yticks(size=14)\n",
        "plt.grid(lw=2)\n",
        "plt.legend(fontsize=14)\n",
        "plt.show()\n",
        "print(max(val_acc_list))"
      ],
      "execution_count": null,
      "outputs": [
        {
          "output_type": "stream",
          "text": [
            "  0%|          | 0/420 [00:00<?, ?it/s]/usr/local/lib/python3.7/dist-packages/torch/nn/functional.py:718: UserWarning: Named tensors and all their associated APIs are an experimental feature and subject to change. Please do not use them for anything important until they are released as stable. (Triggered internally at  /pytorch/c10/core/TensorImpl.h:1156.)\n",
            "  return torch.max_pool2d(input, kernel_size, stride, padding, dilation, ceil_mode)\n",
            "100%|██████████| 420/420 [00:09<00:00, 43.12it/s]\n"
          ],
          "name": "stderr"
        },
        {
          "output_type": "stream",
          "text": [
            "Epoch [1/10], loss: 0.3127 train_loss: 0.3127, train_acc: 0.3789\n"
          ],
          "name": "stdout"
        },
        {
          "output_type": "stream",
          "text": [
            "\r  0%|          | 0/420 [00:00<?, ?it/s]"
          ],
          "name": "stderr"
        },
        {
          "output_type": "stream",
          "text": [
            "Epoch [1/10], loss: 0.3127 val_loss: 0.1275, val_acc: 0.7607\n",
            "Validation loss decreased (inf --> 0.127518).  Saving model ...\n"
          ],
          "name": "stdout"
        },
        {
          "output_type": "stream",
          "text": [
            "100%|██████████| 420/420 [00:09<00:00, 43.44it/s]\n"
          ],
          "name": "stderr"
        },
        {
          "output_type": "stream",
          "text": [
            "Epoch [2/10], loss: 0.0908 train_loss: 0.0908, train_acc: 0.8381\n"
          ],
          "name": "stdout"
        },
        {
          "output_type": "stream",
          "text": [
            "\r  0%|          | 0/420 [00:00<?, ?it/s]"
          ],
          "name": "stderr"
        },
        {
          "output_type": "stream",
          "text": [
            "Epoch [2/10], loss: 0.0908 val_loss: 0.0506, val_acc: 0.9048\n",
            "Validation loss decreased (0.127518 --> 0.050582).  Saving model ...\n"
          ],
          "name": "stdout"
        },
        {
          "output_type": "stream",
          "text": [
            "100%|██████████| 420/420 [00:09<00:00, 43.75it/s]\n"
          ],
          "name": "stderr"
        },
        {
          "output_type": "stream",
          "text": [
            "Epoch [3/10], loss: 0.0346 train_loss: 0.0346, train_acc: 0.9458\n"
          ],
          "name": "stdout"
        },
        {
          "output_type": "stream",
          "text": [
            "\r  0%|          | 0/420 [00:00<?, ?it/s]"
          ],
          "name": "stderr"
        },
        {
          "output_type": "stream",
          "text": [
            "Epoch [3/10], loss: 0.0346 val_loss: 0.0324, val_acc: 0.9366\n",
            "Validation loss decreased (0.050582 --> 0.032427).  Saving model ...\n"
          ],
          "name": "stdout"
        },
        {
          "output_type": "stream",
          "text": [
            "100%|██████████| 420/420 [00:10<00:00, 39.01it/s]\n"
          ],
          "name": "stderr"
        },
        {
          "output_type": "stream",
          "text": [
            "Epoch [4/10], loss: 0.0175 train_loss: 0.0175, train_acc: 0.9777\n"
          ],
          "name": "stdout"
        },
        {
          "output_type": "stream",
          "text": [
            "\r  0%|          | 0/420 [00:00<?, ?it/s]"
          ],
          "name": "stderr"
        },
        {
          "output_type": "stream",
          "text": [
            "Epoch [4/10], loss: 0.0175 val_loss: 0.0268, val_acc: 0.9437\n",
            "Validation loss decreased (0.032427 --> 0.026837).  Saving model ...\n"
          ],
          "name": "stdout"
        },
        {
          "output_type": "stream",
          "text": [
            "100%|██████████| 420/420 [00:09<00:00, 44.17it/s]\n"
          ],
          "name": "stderr"
        },
        {
          "output_type": "stream",
          "text": [
            "Epoch [5/10], loss: 0.0089 train_loss: 0.0089, train_acc: 0.9946\n"
          ],
          "name": "stdout"
        },
        {
          "output_type": "stream",
          "text": [
            "\r  0%|          | 0/420 [00:00<?, ?it/s]"
          ],
          "name": "stderr"
        },
        {
          "output_type": "stream",
          "text": [
            "Epoch [5/10], loss: 0.0089 val_loss: 0.0205, val_acc: 0.9551\n",
            "Validation loss decreased (0.026837 --> 0.020507).  Saving model ...\n"
          ],
          "name": "stdout"
        },
        {
          "output_type": "stream",
          "text": [
            "100%|██████████| 420/420 [00:10<00:00, 38.52it/s]\n"
          ],
          "name": "stderr"
        },
        {
          "output_type": "stream",
          "text": [
            "Epoch [6/10], loss: 0.0063 train_loss: 0.0063, train_acc: 0.9970\n"
          ],
          "name": "stdout"
        },
        {
          "output_type": "stream",
          "text": [
            "  1%|          | 5/420 [00:00<00:09, 42.31it/s]"
          ],
          "name": "stderr"
        },
        {
          "output_type": "stream",
          "text": [
            "Epoch [6/10], loss: 0.0063 val_loss: 0.0205, val_acc: 0.9565\n",
            "EarlyStopping counter: 1 out of 30\n"
          ],
          "name": "stdout"
        },
        {
          "output_type": "stream",
          "text": [
            "100%|██████████| 420/420 [00:09<00:00, 43.65it/s]\n"
          ],
          "name": "stderr"
        },
        {
          "output_type": "stream",
          "text": [
            "Epoch [7/10], loss: 0.0039 train_loss: 0.0039, train_acc: 0.9997\n"
          ],
          "name": "stdout"
        },
        {
          "output_type": "stream",
          "text": [
            "\r  0%|          | 0/420 [00:00<?, ?it/s]"
          ],
          "name": "stderr"
        },
        {
          "output_type": "stream",
          "text": [
            "Epoch [7/10], loss: 0.0039 val_loss: 0.0185, val_acc: 0.9577\n",
            "Validation loss decreased (0.020507 --> 0.018535).  Saving model ...\n"
          ],
          "name": "stdout"
        },
        {
          "output_type": "stream",
          "text": [
            "100%|██████████| 420/420 [00:09<00:00, 44.27it/s]\n"
          ],
          "name": "stderr"
        },
        {
          "output_type": "stream",
          "text": [
            "Epoch [8/10], loss: 0.0033 train_loss: 0.0033, train_acc: 0.9970\n"
          ],
          "name": "stdout"
        },
        {
          "output_type": "stream",
          "text": [
            "\r  0%|          | 0/420 [00:00<?, ?it/s]"
          ],
          "name": "stderr"
        },
        {
          "output_type": "stream",
          "text": [
            "Epoch [8/10], loss: 0.0033 val_loss: 0.0169, val_acc: 0.9625\n",
            "Validation loss decreased (0.018535 --> 0.016877).  Saving model ...\n"
          ],
          "name": "stdout"
        },
        {
          "output_type": "stream",
          "text": [
            "100%|██████████| 420/420 [00:09<00:00, 43.45it/s]\n"
          ],
          "name": "stderr"
        },
        {
          "output_type": "stream",
          "text": [
            "Epoch [9/10], loss: 0.0024 train_loss: 0.0024, train_acc: 0.9997\n"
          ],
          "name": "stdout"
        },
        {
          "output_type": "stream",
          "text": [
            "  1%|          | 4/420 [00:00<00:12, 34.37it/s]"
          ],
          "name": "stderr"
        },
        {
          "output_type": "stream",
          "text": [
            "Epoch [9/10], loss: 0.0024 val_loss: 0.0176, val_acc: 0.9610\n",
            "EarlyStopping counter: 1 out of 30\n"
          ],
          "name": "stdout"
        },
        {
          "output_type": "stream",
          "text": [
            "100%|██████████| 420/420 [00:09<00:00, 43.99it/s]\n"
          ],
          "name": "stderr"
        },
        {
          "output_type": "stream",
          "text": [
            "Epoch [10/10], loss: 0.0022 train_loss: 0.0022, train_acc: 0.9997\n",
            "Epoch [10/10], loss: 0.0022 val_loss: 0.0163, val_acc: 0.9622\n",
            "Validation loss decreased (0.016877 --> 0.016316).  Saving model ...\n"
          ],
          "name": "stdout"
        },
        {
          "output_type": "display_data",
          "data": {
            "image/png": "[encoded data removed]",
            "text/plain": [
              "<Figure size 576x432 with 1 Axes>"
            ]
          },
          "metadata": {
            "tags": [],
            "needs_background": "light"
          }
        },
        {
          "output_type": "display_data",
          "data": {
            "image/png": "[encoded data removed]",
            "text/plain": [
              "<Figure size 576x432 with 1 Axes>"
            ]
          },
          "metadata": {
            "tags": [],
            "needs_background": "light"
          }
        },
        {
          "output_type": "stream",
          "text": [
            "0.9625\n"
          ],
          "name": "stdout"
        }
      ]
    },
    {
      "cell_type": "code",
      "metadata": {
        "id": "g9nswMZZTNvm"
      },
      "source": [
        "model.load_state_dict(torch.load(\"model/left.pt\"))"
      ],
      "execution_count": null,
      "outputs": []
    }
  ]
}